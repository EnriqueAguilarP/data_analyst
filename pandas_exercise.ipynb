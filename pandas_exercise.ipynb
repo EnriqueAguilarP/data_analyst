{
 "cells": [
  {
   "attachments": {},
   "cell_type": "markdown",
   "metadata": {},
   "source": [
    "# EDA with Pandas module "
   ]
  },
  {
   "cell_type": "code",
   "execution_count": null,
   "metadata": {},
   "outputs": [],
   "source": [
    "#Create a dataframe that representate homelessness data\n",
    "import pandas as pd\n",
    "import numpy as np\n",
    "array = np.array([\n",
    "    ['East South Central', 'Alabama', 2570.0, 864.0, 4887681],\n",
    "    ['Pacific', 'Alaska', 1434.0, 582.0, 735139],\n",
    "    ['Mountain', 'Arizona', 7259.0, 2606.0, 7158024],\n",
    "    ['West South Central', 'Arkansas', 2280.0, 432.0, 3009733],\n",
    "    ['Pacific', 'California', 109008.0, 20964.0, 39461588],\n",
    "    ['Mountain', 'Colorado', 7607.0, 3250.0, 5691287],\n",
    "    ['New England', 'Connecticut', 2280.0, 1696.0, 3571520],\n",
    "    ['South Atlantic', 'Delaware', 708.0, 374.0, 965479],\n",
    "    ['South Atlantic', 'District of Columbia', 3770.0, 3134.0, 701547],\n",
    "    ['South Atlantic', 'Florida', 21443.0, 9587.0, 21244317],\n",
    "    ['South Atlantic', 'Georgia', 6943.0, 2556.0, 10511131],\n",
    "    ['Pacific', 'Hawaii', 4131.0, 2399.0, 1420593]\n",
    "\n",
    "])\n",
    "headers = ['region', 'state', 'individuals', 'family_members', 'state_pop']\n",
    "df = pd.DataFrame(array, columns=headers)"
   ]
  },
  {
   "cell_type": "code",
   "execution_count": 19,
   "metadata": {},
   "outputs": [
    {
     "name": "stdout",
     "output_type": "stream",
     "text": [
      "               region       state  individuals  family_members  state_pop\n",
      "0  East South Central     Alabama         2570             864    4887681\n",
      "1             Pacific      Alaska         1434             582     735139\n",
      "2            Mountain     Arizona         7259            2606    7158024\n",
      "3  West South Central    Arkansas         2280             432    3009733\n",
      "4             Pacific  California      1090008           20964   39461588\n",
      "<class 'pandas.core.frame.DataFrame'>\n",
      "RangeIndex: 12 entries, 0 to 11\n",
      "Data columns (total 5 columns):\n",
      " #   Column          Non-Null Count  Dtype \n",
      "---  ------          --------------  ----- \n",
      " 0   region          12 non-null     object\n",
      " 1   state           12 non-null     object\n",
      " 2   individuals     12 non-null     int32 \n",
      " 3   family_members  12 non-null     int32 \n",
      " 4   state_pop       12 non-null     int32 \n",
      "dtypes: int32(3), object(2)\n",
      "memory usage: 304.0+ bytes\n",
      "None\n",
      "<class 'pandas.core.frame.DataFrame'>\n",
      "RangeIndex: 12 entries, 0 to 11\n",
      "Data columns (total 5 columns):\n",
      " #   Column          Non-Null Count  Dtype \n",
      "---  ------          --------------  ----- \n",
      " 0   region          12 non-null     object\n",
      " 1   state           12 non-null     object\n",
      " 2   individuals     12 non-null     int32 \n",
      " 3   family_members  12 non-null     int32 \n",
      " 4   state_pop       12 non-null     int32 \n",
      "dtypes: int32(3), object(2)\n",
      "memory usage: 304.0+ bytes\n",
      "None\n",
      "(12, 5)\n"
     ]
    }
   ],
   "source": [
    "#Print the head of homelessness\n",
    "print(df.head())\n",
    "\n",
    "# Print information about homelessness\n",
    "print(df.info())\n",
    "\n",
    "#Convert columns with object  to float\n",
    "df['individuals'] = df['individuals'].astype(int)\n",
    "df['family_members'] = df['family_members'].astype(int)\n",
    "df['state_pop'] = df['state_pop'].astype(int)\n",
    "print(df.info())\n",
    "\n",
    "# Print the shape of homelessness\n",
    "print(df.shape)\n",
    "\n"
   ]
  },
  {
   "cell_type": "code",
   "execution_count": 20,
   "metadata": {},
   "outputs": [
    {
     "name": "stdout",
     "output_type": "stream",
     "text": [
      "        individuals  family_members     state_pop\n",
      "count  1.200000e+01       12.000000  1.200000e+01\n",
      "mean   9.586942e+04     4037.000000  8.279837e+06\n",
      "std    3.131215e+05     5874.316997  1.140043e+07\n",
      "min    7.080000e+02      374.000000  7.015470e+05\n",
      "25%    2.280000e+03      793.500000  1.306814e+06\n",
      "50%    3.950500e+03     2477.500000  4.229600e+06\n",
      "75%    7.346000e+03     3163.000000  7.996301e+06\n",
      "max    1.090008e+06    20964.000000  3.946159e+07\n",
      "[['East South Central' 'Alabama' 2570 864 4887681]\n",
      " ['Pacific' 'Alaska' 1434 582 735139]\n",
      " ['Mountain' 'Arizona' 7259 2606 7158024]\n",
      " ['West South Central' 'Arkansas' 2280 432 3009733]\n",
      " ['Pacific' 'California' 1090008 20964 39461588]\n",
      " ['Mountain' 'Colorado' 7607 3250 5691287]\n",
      " ['New England' 'Connecticut' 2280 1696 3571520]\n",
      " ['South Atlantic' 'Delaware' 708 374 965479]\n",
      " ['South Atlantic' 'District of Columbia' 3770 3134 701547]\n",
      " ['South Atlantic' 'Florida' 21443 9587 21244317]\n",
      " ['South Atlantic' 'Georgia' 6943 2556 10511131]\n",
      " ['Pacific' 'Hawaii' 4131 2399 1420593]]\n",
      "Index(['region', 'state', 'individuals', 'family_members', 'state_pop'], dtype='object')\n"
     ]
    }
   ],
   "source": [
    "# Print a description of homelessness\n",
    "print(df.describe())\n",
    "\n",
    "#Print the values of homelessness\n",
    "print(df.values)\n",
    "\n",
    "#Print the column index of homelessness\n",
    "print(df.columns)"
   ]
  },
  {
   "cell_type": "code",
   "execution_count": 18,
   "metadata": {},
   "outputs": [
    {
     "name": "stdout",
     "output_type": "stream",
     "text": [
      "Observations where individuals column is greater than 10000\n",
      "           region       state  individuals  family_members  state_pop\n",
      "4         Pacific  California      1090008           20964   39461588\n",
      "9  South Atlantic     Florida        21443            9587   21244317\n",
      "Observations where region column is South Atlantic\n",
      "            region                 state  individuals  family_members  \\\n",
      "7   South Atlantic              Delaware          708             374   \n",
      "8   South Atlantic  District of Columbia         3770            3134   \n",
      "9   South Atlantic               Florida        21443            9587   \n",
      "10  South Atlantic               Georgia         6943            2556   \n",
      "\n",
      "    state_pop  \n",
      "7      965479  \n",
      "8      701547  \n",
      "9    21244317  \n",
      "10   10511131  \n",
      "Observations where family_members column is less than 1000 and region column is Pacific\n",
      "    region   state  individuals  family_members  state_pop\n",
      "1  Pacific  Alaska         1434             582     735139\n"
     ]
    }
   ],
   "source": [
    "#Filter for rows where individuals is greater than 10000\n",
    "print('Observations where individuals column is greater than 10000')\n",
    "ind_gt_10k = df[df['individuals'] > 10000]\n",
    "print(ind_gt_10k)\n",
    "\n",
    "# Filter for rows where region is South Atlantic\n",
    "print('Observations where region column is South Atlantic')\n",
    "south_reg = df[df['region']=='South Atlantic']\n",
    "print(south_reg)\n",
    "\n",
    "# Filter for rows where family_members is less than 1000 and region is Pacific\n",
    "print('Observations where family_members column is less than 1000 and region column is Pacific')\n",
    "fam_lt_1k_pac = df[(df['family_members']<1000) & (df['region']=='Pacific')]\n",
    "print(fam_lt_1k_pac)"
   ]
  }
 ],
 "metadata": {
  "kernelspec": {
   "display_name": "Python 3",
   "language": "python",
   "name": "python3"
  },
  "language_info": {
   "codemirror_mode": {
    "name": "ipython",
    "version": 3
   },
   "file_extension": ".py",
   "mimetype": "text/x-python",
   "name": "python",
   "nbconvert_exporter": "python",
   "pygments_lexer": "ipython3",
   "version": "3.8.5"
  },
  "orig_nbformat": 4
 },
 "nbformat": 4,
 "nbformat_minor": 2
}
